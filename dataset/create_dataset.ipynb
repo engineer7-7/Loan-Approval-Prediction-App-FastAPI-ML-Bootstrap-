{
 "cells": [
  {
   "cell_type": "code",
   "id": "initial_id",
   "metadata": {
    "collapsed": true
   },
   "source": [
    "import pandas as pd\n",
    "import numpy as np"
   ],
   "outputs": [],
   "execution_count": null
  },
  {
   "metadata": {},
   "cell_type": "code",
   "source": [
    "data = pd.read_csv('dataset.csv')\n",
    "\n",
    "data"
   ],
   "id": "a05a1b228d131313",
   "outputs": [],
   "execution_count": null
  },
  {
   "metadata": {},
   "cell_type": "code",
   "source": "print(data.columns)",
   "id": "a3ad60fc3503a304",
   "outputs": [],
   "execution_count": null
  },
  {
   "metadata": {},
   "cell_type": "code",
   "source": [
    "front_cols = [\n",
    "    'Gender', 'Married', 'ApplicantIncome', 'LoanAmount', 'Credit_History', 'Loan_Status'\n",
    "]\n",
    "\n",
    "check_cols = [True if col in data.columns else False for col in front_cols]\n",
    "\n",
    "if all(check_cols):\n",
    "    print('OK')\n",
    "else:\n",
    "    print('NOT')"
   ],
   "id": "a6d5cbb7d87fe8fb",
   "outputs": [],
   "execution_count": null
  },
  {
   "metadata": {},
   "cell_type": "code",
   "source": [
    "new_data = data[front_cols]\n",
    "\n",
    "new_data"
   ],
   "id": "ea781a1842c0a94b",
   "outputs": [],
   "execution_count": null
  },
  {
   "metadata": {},
   "cell_type": "code",
   "source": "new_data.isnull().mean() * 100",
   "id": "9a24a2f81372753c",
   "outputs": [],
   "execution_count": null
  },
  {
   "metadata": {},
   "cell_type": "code",
   "source": "new_data['Gender'].fillna(value=np.random.choice(new_data['Gender']), inplace=True)",
   "id": "15b1f1c4f0aa1202",
   "outputs": [],
   "execution_count": null
  },
  {
   "metadata": {},
   "cell_type": "code",
   "source": "new_data['Married'].fillna(value=np.random.choice(new_data['Married']), inplace=True)",
   "id": "7e09c7d626d71922",
   "outputs": [],
   "execution_count": null
  },
  {
   "metadata": {},
   "cell_type": "code",
   "source": "new_data['LoanAmount'].fillna(value=new_data['LoanAmount'].mean(), inplace=True)",
   "id": "7490a274e296ea50",
   "outputs": [],
   "execution_count": null
  },
  {
   "metadata": {},
   "cell_type": "code",
   "source": "new_data['Credit_History'].fillna(value=np.random.choice(new_data['Credit_History']), inplace=True)",
   "id": "92b1417417096dc4",
   "outputs": [],
   "execution_count": null
  },
  {
   "metadata": {},
   "cell_type": "code",
   "source": "new_data.isnull().mean() * 100",
   "id": "465f15ac580e4810",
   "outputs": [],
   "execution_count": null
  },
  {
   "metadata": {},
   "cell_type": "code",
   "source": "new_data",
   "id": "ceb0ed36580700f6",
   "outputs": [],
   "execution_count": null
  },
  {
   "metadata": {},
   "cell_type": "code",
   "source": [
    "new_data['Gender'] = new_data['Gender'].apply(\n",
    "    lambda x: 1 if x == 'Male' else 0\n",
    ")\n",
    "\n",
    "new_data"
   ],
   "id": "28f05629a8208a7a",
   "outputs": [],
   "execution_count": null
  },
  {
   "metadata": {},
   "cell_type": "code",
   "source": [
    "new_data['Married'] = new_data['Married'].apply(\n",
    "    lambda x: 1 if x == 'Yes' else 0\n",
    ")\n",
    "\n",
    "new_data"
   ],
   "id": "222dbae0666d6a3e",
   "outputs": [],
   "execution_count": null
  },
  {
   "metadata": {},
   "cell_type": "code",
   "source": [
    "new_data['Loan_Status'] = new_data['Loan_Status'].apply(\n",
    "    lambda x: 1 if x == 'Y' else 0\n",
    ")\n",
    "\n",
    "new_data"
   ],
   "id": "ce37dd60c835f76b",
   "outputs": [],
   "execution_count": null
  },
  {
   "metadata": {
    "ExecuteTime": {
     "end_time": "2025-10-22T09:23:00.495165Z",
     "start_time": "2025-10-22T09:22:59.617179Z"
    }
   },
   "cell_type": "code",
   "source": "new_data",
   "id": "77bda9022f85c3b7",
   "outputs": [
    {
     "data": {
      "text/plain": [
       "     Gender  Married  ApplicantIncome  LoanAmount  Credit_History  Loan_Status\n",
       "0         1        0             5849  146.412162             1.0            1\n",
       "1         1        0             4583  128.000000             1.0            0\n",
       "2         1        0             3000   66.000000             1.0            1\n",
       "3         1        0             2583  120.000000             1.0            1\n",
       "4         1        0             6000  141.000000             1.0            1\n",
       "..      ...      ...              ...         ...             ...          ...\n",
       "609       0        0             2900   71.000000             1.0            1\n",
       "610       1        0             4106   40.000000             1.0            1\n",
       "611       1        0             8072  253.000000             1.0            1\n",
       "612       1        0             7583  187.000000             1.0            1\n",
       "613       0        0             4583  133.000000             0.0            0\n",
       "\n",
       "[614 rows x 6 columns]"
      ],
      "text/html": [
       "<div>\n",
       "<style scoped>\n",
       "    .dataframe tbody tr th:only-of-type {\n",
       "        vertical-align: middle;\n",
       "    }\n",
       "\n",
       "    .dataframe tbody tr th {\n",
       "        vertical-align: top;\n",
       "    }\n",
       "\n",
       "    .dataframe thead th {\n",
       "        text-align: right;\n",
       "    }\n",
       "</style>\n",
       "<table border=\"1\" class=\"dataframe\">\n",
       "  <thead>\n",
       "    <tr style=\"text-align: right;\">\n",
       "      <th></th>\n",
       "      <th>Gender</th>\n",
       "      <th>Married</th>\n",
       "      <th>ApplicantIncome</th>\n",
       "      <th>LoanAmount</th>\n",
       "      <th>Credit_History</th>\n",
       "      <th>Loan_Status</th>\n",
       "    </tr>\n",
       "  </thead>\n",
       "  <tbody>\n",
       "    <tr>\n",
       "      <th>0</th>\n",
       "      <td>1</td>\n",
       "      <td>0</td>\n",
       "      <td>5849</td>\n",
       "      <td>146.412162</td>\n",
       "      <td>1.0</td>\n",
       "      <td>1</td>\n",
       "    </tr>\n",
       "    <tr>\n",
       "      <th>1</th>\n",
       "      <td>1</td>\n",
       "      <td>0</td>\n",
       "      <td>4583</td>\n",
       "      <td>128.000000</td>\n",
       "      <td>1.0</td>\n",
       "      <td>0</td>\n",
       "    </tr>\n",
       "    <tr>\n",
       "      <th>2</th>\n",
       "      <td>1</td>\n",
       "      <td>0</td>\n",
       "      <td>3000</td>\n",
       "      <td>66.000000</td>\n",
       "      <td>1.0</td>\n",
       "      <td>1</td>\n",
       "    </tr>\n",
       "    <tr>\n",
       "      <th>3</th>\n",
       "      <td>1</td>\n",
       "      <td>0</td>\n",
       "      <td>2583</td>\n",
       "      <td>120.000000</td>\n",
       "      <td>1.0</td>\n",
       "      <td>1</td>\n",
       "    </tr>\n",
       "    <tr>\n",
       "      <th>4</th>\n",
       "      <td>1</td>\n",
       "      <td>0</td>\n",
       "      <td>6000</td>\n",
       "      <td>141.000000</td>\n",
       "      <td>1.0</td>\n",
       "      <td>1</td>\n",
       "    </tr>\n",
       "    <tr>\n",
       "      <th>...</th>\n",
       "      <td>...</td>\n",
       "      <td>...</td>\n",
       "      <td>...</td>\n",
       "      <td>...</td>\n",
       "      <td>...</td>\n",
       "      <td>...</td>\n",
       "    </tr>\n",
       "    <tr>\n",
       "      <th>609</th>\n",
       "      <td>0</td>\n",
       "      <td>0</td>\n",
       "      <td>2900</td>\n",
       "      <td>71.000000</td>\n",
       "      <td>1.0</td>\n",
       "      <td>1</td>\n",
       "    </tr>\n",
       "    <tr>\n",
       "      <th>610</th>\n",
       "      <td>1</td>\n",
       "      <td>0</td>\n",
       "      <td>4106</td>\n",
       "      <td>40.000000</td>\n",
       "      <td>1.0</td>\n",
       "      <td>1</td>\n",
       "    </tr>\n",
       "    <tr>\n",
       "      <th>611</th>\n",
       "      <td>1</td>\n",
       "      <td>0</td>\n",
       "      <td>8072</td>\n",
       "      <td>253.000000</td>\n",
       "      <td>1.0</td>\n",
       "      <td>1</td>\n",
       "    </tr>\n",
       "    <tr>\n",
       "      <th>612</th>\n",
       "      <td>1</td>\n",
       "      <td>0</td>\n",
       "      <td>7583</td>\n",
       "      <td>187.000000</td>\n",
       "      <td>1.0</td>\n",
       "      <td>1</td>\n",
       "    </tr>\n",
       "    <tr>\n",
       "      <th>613</th>\n",
       "      <td>0</td>\n",
       "      <td>0</td>\n",
       "      <td>4583</td>\n",
       "      <td>133.000000</td>\n",
       "      <td>0.0</td>\n",
       "      <td>0</td>\n",
       "    </tr>\n",
       "  </tbody>\n",
       "</table>\n",
       "<p>614 rows × 6 columns</p>\n",
       "</div>"
      ]
     },
     "execution_count": 69,
     "metadata": {},
     "output_type": "execute_result"
    }
   ],
   "execution_count": 69
  },
  {
   "metadata": {
    "ExecuteTime": {
     "end_time": "2025-10-22T08:33:25.800997Z",
     "start_time": "2025-10-22T08:33:25.732278Z"
    }
   },
   "cell_type": "code",
   "source": "new_data.to_csv('final_data.csv', index=False)",
   "id": "9d711a0599391914",
   "outputs": [],
   "execution_count": 68
  }
 ],
 "metadata": {
  "kernelspec": {
   "display_name": "Python 3",
   "language": "python",
   "name": "python3"
  },
  "language_info": {
   "codemirror_mode": {
    "name": "ipython",
    "version": 2
   },
   "file_extension": ".py",
   "mimetype": "text/x-python",
   "name": "python",
   "nbconvert_exporter": "python",
   "pygments_lexer": "ipython2",
   "version": "2.7.6"
  }
 },
 "nbformat": 4,
 "nbformat_minor": 5
}
